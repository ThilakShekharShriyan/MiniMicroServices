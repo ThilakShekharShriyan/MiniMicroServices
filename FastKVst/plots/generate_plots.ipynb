{
 "cells": [
  {
   "cell_type": "code",
   "execution_count": null,
   "id": "c2a5b4ab",
   "metadata": {
    "vscode": {
     "languageId": "plaintext"
    }
   },
   "outputs": [],
   "source": [
    "import pandas as pd\n",
    "import matplotlib.pyplot as plt\n",
    "\n",
    "# Load the results CSV\n",
    "df = pd.read_csv('../bench/results.csv')\n",
    "\n",
    "# Ops/sec comparison\n",
    "plt.figure()\n",
    "for store in df['Store'].unique():\n",
    "    subset = df[df['Store']==store]\n",
    "    plt.plot(subset['NumKeys'], subset['Writes/sec'], label=store)\n",
    "plt.xlabel('Number of Keys')\n",
    "plt.ylabel('Write Ops/sec')\n",
    "plt.legend()\n",
    "plt.title('Write Throughput by Store')\n",
    "plt.show()\n",
    "\n",
    "# Latency box‑plot\n",
    "plt.figure()\n",
    "df.boxplot(column='AvgReadLatency(ms)', by='Store')\n",
    "plt.ylabel('Avg Read Latency (ms)')\n",
    "plt.title('Read Latency Distribution')\n",
    "plt.suptitle('')\n",
    "plt.show()\n"
   ]
  }
 ],
 "metadata": {
  "language_info": {
   "name": "python"
  }
 },
 "nbformat": 4,
 "nbformat_minor": 5
}
